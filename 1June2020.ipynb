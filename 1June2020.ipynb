{
 "cells": [
  {
   "cell_type": "markdown",
   "metadata": {},
   "source": [
    "# Tuples\n",
    "### 1.Immutable(changes are not allowed)\n",
    "### 2. using ( ) elements are separated by ,\n",
    "### 3. Indexed,Ordered\n",
    "### 4. Allows duplicate values\n",
    "### 5. Allows Heterogeneous values\n"
   ]
  },
  {
   "cell_type": "code",
   "execution_count": 2,
   "metadata": {},
   "outputs": [
    {
     "name": "stdout",
     "output_type": "stream",
     "text": [
      "<class 'tuple'>\n"
     ]
    }
   ],
   "source": [
    "tup=(12,3,4.5,\"abc\",True)\n",
    "print(type(tup))"
   ]
  },
  {
   "cell_type": "code",
   "execution_count": 3,
   "metadata": {},
   "outputs": [
    {
     "name": "stdout",
     "output_type": "stream",
     "text": [
      "4.5\n",
      "True\n"
     ]
    }
   ],
   "source": [
    "print(tup[2])\n",
    "print(tup[-1])"
   ]
  },
  {
   "cell_type": "code",
   "execution_count": 5,
   "metadata": {},
   "outputs": [
    {
     "data": {
      "text/plain": [
       "(12, 3, 100, 'abc', True)"
      ]
     },
     "execution_count": 5,
     "metadata": {},
     "output_type": "execute_result"
    }
   ],
   "source": [
    "l=list(tup)\n",
    "l[2]=100\n",
    "tup=tuple(l)\n",
    "tup"
   ]
  },
  {
   "cell_type": "markdown",
   "metadata": {},
   "source": [
    "# Packing and Unpacking"
   ]
  },
  {
   "cell_type": "code",
   "execution_count": 7,
   "metadata": {},
   "outputs": [
    {
     "name": "stdout",
     "output_type": "stream",
     "text": [
      "74\n"
     ]
    }
   ],
   "source": [
    "#unpacking\n",
    "tup2=(12,352,55,74)\n",
    "a,b,c,d=tup2\n",
    "print(d)"
   ]
  },
  {
   "cell_type": "code",
   "execution_count": 8,
   "metadata": {},
   "outputs": [
    {
     "name": "stdout",
     "output_type": "stream",
     "text": [
      "<class 'tuple'>\n",
      "(10, 20, 30)\n"
     ]
    }
   ],
   "source": [
    "#packing\n",
    "x=10,20,30\n",
    "print(type(x))\n",
    "print(x)"
   ]
  },
  {
   "cell_type": "markdown",
   "metadata": {},
   "source": [
    "# Set"
   ]
  },
  {
   "cell_type": "code",
   "execution_count": 9,
   "metadata": {},
   "outputs": [
    {
     "name": "stdout",
     "output_type": "stream",
     "text": [
      "{222123, 12, 878, 343, 43545}\n"
     ]
    }
   ],
   "source": [
    "set1={12,343,222123,43545,878}\n",
    "print(set1)"
   ]
  },
  {
   "cell_type": "code",
   "execution_count": 10,
   "metadata": {},
   "outputs": [
    {
     "name": "stdout",
     "output_type": "stream",
     "text": [
      "222123\n",
      "12\n",
      "878\n",
      "343\n",
      "43545\n"
     ]
    }
   ],
   "source": [
    "for ele in set1:\n",
    "    print(ele)"
   ]
  },
  {
   "cell_type": "code",
   "execution_count": 11,
   "metadata": {},
   "outputs": [
    {
     "name": "stdout",
     "output_type": "stream",
     "text": [
      "{222123, 12, 878, 343, 43545}\n",
      "5\n",
      "12\n",
      "222123\n"
     ]
    }
   ],
   "source": [
    "# Builtin fucntions:\n",
    "print(set1)\n",
    "print(len(set1))\n",
    "print(min(set1))\n",
    "print(max(set1))"
   ]
  },
  {
   "cell_type": "code",
   "execution_count": 12,
   "metadata": {},
   "outputs": [
    {
     "data": {
      "text/plain": [
       "{1, 2, 3, 4, 5, 21, 23, 61, 322}"
      ]
     },
     "execution_count": 12,
     "metadata": {},
     "output_type": "execute_result"
    }
   ],
   "source": [
    "#remocing duplicates from list\n",
    "list1=[1,2,3,4,5,61,2,3,4,5,23,21,3,4,2,3,322]\n",
    "list1=set(list1)\n",
    "list1"
   ]
  },
  {
   "cell_type": "code",
   "execution_count": 14,
   "metadata": {},
   "outputs": [
    {
     "data": {
      "text/plain": [
       "{12, 23, 100, 343, 878, 1313, 43545, 222123}"
      ]
     },
     "execution_count": 14,
     "metadata": {},
     "output_type": "execute_result"
    }
   ],
   "source": [
    "#adding elements\n",
    "set1.add(100)\n",
    "set1.add(23)\n",
    "set1.add(1313)\n",
    "set1"
   ]
  },
  {
   "cell_type": "code",
   "execution_count": 16,
   "metadata": {},
   "outputs": [
    {
     "data": {
      "text/plain": [
       "100"
      ]
     },
     "execution_count": 16,
     "metadata": {},
     "output_type": "execute_result"
    }
   ],
   "source": [
    "set1.pop()"
   ]
  },
  {
   "cell_type": "code",
   "execution_count": 19,
   "metadata": {},
   "outputs": [
    {
     "data": {
      "text/plain": [
       "{12, 23, 878, 43545, 222123}"
      ]
     },
     "execution_count": 19,
     "metadata": {},
     "output_type": "execute_result"
    }
   ],
   "source": [
    "set1.remove(343)\n",
    "set1 #can use set.clear() to empty the set"
   ]
  },
  {
   "cell_type": "code",
   "execution_count": 20,
   "metadata": {},
   "outputs": [
    {
     "name": "stdout",
     "output_type": "stream",
     "text": [
      "{1, 2, 3, 4, 5, 21}\n",
      "{12, 45, 78, 23}\n",
      "{6}\n"
     ]
    }
   ],
   "source": [
    "#union difference(A-B or B-A),intersection\n",
    "A={1,2,4,5,6,3,21}\n",
    "B={12,23,45,6,78}\n",
    "#union\n",
    "print(A.difference(B))\n",
    "print(B.difference(A))\n",
    "print(A.intersection(B))"
   ]
  },
  {
   "cell_type": "code",
   "execution_count": 24,
   "metadata": {},
   "outputs": [
    {
     "name": "stdout",
     "output_type": "stream",
     "text": [
      "False\n",
      "False\n",
      "False\n",
      "False\n"
     ]
    }
   ],
   "source": [
    "#Subset,superset\n",
    "c={1,2,3,4,5,6,7,8,9}\n",
    "print(A.issubset(c))\n",
    "print(B.issubset(c))\n",
    "print(B.issuperset(c))\n",
    "print(A.issuperset(c))"
   ]
  },
  {
   "cell_type": "code",
   "execution_count": 28,
   "metadata": {},
   "outputs": [
    {
     "name": "stdout",
     "output_type": "stream",
     "text": [
      "False\n",
      "True\n"
     ]
    }
   ],
   "source": [
    "#disjoint\n",
    "x={1,2}\n",
    "y={22,31,28}\n",
    "print(A.isdisjoint(B))\n",
    "print(x.isdisjoint(y))"
   ]
  },
  {
   "cell_type": "code",
   "execution_count": 29,
   "metadata": {},
   "outputs": [
    {
     "name": "stdout",
     "output_type": "stream",
     "text": [
      "{1, 2, 3, 4, 5, 6, 12, 45, 78, 21, 23}\n",
      "{6, 12, 45, 78, 23}\n"
     ]
    }
   ],
   "source": [
    "A.update(B)\n",
    "print(A)\n",
    "print(B)"
   ]
  },
  {
   "cell_type": "code",
   "execution_count": 30,
   "metadata": {},
   "outputs": [
    {
     "name": "stdout",
     "output_type": "stream",
     "text": [
      "{6, 12, 45, 78, 23}\n",
      "{6, 12, 45, 78, 23}\n"
     ]
    }
   ],
   "source": [
    "A.intersection_update(B)\n",
    "print(A)\n",
    "print(B)"
   ]
  },
  {
   "cell_type": "code",
   "execution_count": 32,
   "metadata": {},
   "outputs": [
    {
     "name": "stdout",
     "output_type": "stream",
     "text": [
      "set()\n",
      "{6, 12, 45, 78, 23}\n"
     ]
    }
   ],
   "source": [
    "A.difference_update(B)\n",
    "print(A)\n",
    "print(B)"
   ]
  },
  {
   "cell_type": "code",
   "execution_count": 34,
   "metadata": {},
   "outputs": [
    {
     "name": "stdout",
     "output_type": "stream",
     "text": [
      "{6, 45, 12, 78, 23}\n",
      "{6, 12, 45, 78, 23}\n"
     ]
    }
   ],
   "source": [
    "A.symmetric_difference_update(B)\n",
    "print(A)\n",
    "print(B)"
   ]
  },
  {
   "cell_type": "markdown",
   "metadata": {},
   "source": [
    "# Dictionary"
   ]
  },
  {
   "cell_type": "code",
   "execution_count": 1,
   "metadata": {},
   "outputs": [
    {
     "name": "stdout",
     "output_type": "stream",
     "text": [
      "Adiraju Narasimha Sathvik \n",
      "{'name': 'A.N.Sathvik IPS', 'Batch': '111', 'Trained': 'Hyderabad'}\n",
      "{'name': 'A.N.Sathvik IPS', 'Batch': '111', 'Trained': 'Hyderabad', 'college': 'Bombay'}\n",
      "{'name': 'A.N.Sathvik IPS', 'Batch': '111', 'college': 'Bombay'}\n"
     ]
    }
   ],
   "source": [
    "d1={\"name\":\"Adiraju Narasimha Sathvik \",\"Batch\":\"111\",\"Trained\":\"Hyderabad\"}\n",
    "print(d1[\"name\"])\n",
    "#to edit value\n",
    "d1[\"name\"]=\"A.N.Sathvik IPS\"\n",
    "print(d1)\n",
    "#Adding entry\n",
    "d1[\"college\"]=\"Bombay\"\n",
    "print(d1)\n",
    "#Removing entry\n",
    "del d1[\"Trained\"]\n",
    "print(d1)\n"
   ]
  },
  {
   "cell_type": "markdown",
   "metadata": {},
   "source": [
    "## Buit in methods"
   ]
  },
  {
   "cell_type": "code",
   "execution_count": 4,
   "metadata": {},
   "outputs": [
    {
     "name": "stdout",
     "output_type": "stream",
     "text": [
      "dict_keys(['name', 'Batch', 'college'])\n",
      "dict_values(['A.N.Sathvik IPS', '111', 'Bombay'])\n",
      "dict_items([('name', 'A.N.Sathvik IPS'), ('Batch', '111'), ('college', 'Bombay')])\n"
     ]
    }
   ],
   "source": [
    "#Keys(),values(),items()\n",
    "print(d1.keys())\n",
    "print(d1.values())\n",
    "print(d1.items())"
   ]
  },
  {
   "cell_type": "code",
   "execution_count": 5,
   "metadata": {},
   "outputs": [
    {
     "name": "stdout",
     "output_type": "stream",
     "text": [
      "A.N.Sathvik IPS\n",
      "A.N.Sathvik IPS\n"
     ]
    }
   ],
   "source": [
    "#extacting an element\n",
    "print(d1[\"name\"])\n",
    "print(d1.get(\"name\"))"
   ]
  },
  {
   "cell_type": "code",
   "execution_count": null,
   "metadata": {},
   "outputs": [],
   "source": []
  }
 ],
 "metadata": {
  "kernelspec": {
   "display_name": "Python 3",
   "language": "python",
   "name": "python3"
  },
  "language_info": {
   "codemirror_mode": {
    "name": "ipython",
    "version": 3
   },
   "file_extension": ".py",
   "mimetype": "text/x-python",
   "name": "python",
   "nbconvert_exporter": "python",
   "pygments_lexer": "ipython3",
   "version": "3.7.6"
  }
 },
 "nbformat": 4,
 "nbformat_minor": 4
}
