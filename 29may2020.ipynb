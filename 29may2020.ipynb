{
 "cells": [
  {
   "cell_type": "code",
   "execution_count": 1,
   "metadata": {},
   "outputs": [
    {
     "name": "stdout",
     "output_type": "stream",
     "text": [
      "1\n",
      "2\n",
      "3\n",
      "4\n"
     ]
    }
   ],
   "source": [
    "#1.loop control statements break,continue\n",
    "for i in range(1,11):\n",
    "    if i%5==0:\n",
    "        break\n",
    "    else:\n",
    "        print(i)"
   ]
  },
  {
   "cell_type": "code",
   "execution_count": 2,
   "metadata": {},
   "outputs": [
    {
     "name": "stdout",
     "output_type": "stream",
     "text": [
      "1\n",
      "2\n",
      "3\n",
      "4\n",
      "6\n",
      "7\n",
      "8\n",
      "9\n"
     ]
    }
   ],
   "source": [
    "for i in range(1,11):\n",
    "    if i%5==0:\n",
    "        continue\n",
    "    else:\n",
    "        print(i)"
   ]
  },
  {
   "cell_type": "code",
   "execution_count": 6,
   "metadata": {},
   "outputs": [
    {
     "name": "stdout",
     "output_type": "stream",
     "text": [
      "enter username: name\n",
      "Enter password passd\n",
      "enter username: pass\n",
      "enter username: name\n",
      "Enter password pass\n",
      "Login done\n"
     ]
    }
   ],
   "source": [
    "#2.write a program to validate username and password given by the user.\n",
    "#username:name\n",
    "#password:pass\n",
    "while True:\n",
    "    user=input(\"enter username: \")\n",
    "    if user==\"name\":\n",
    "        pwd=input(\"Enter password \")\n",
    "        if pwd==\"pass\":\n",
    "            print(\"Login done\")\n",
    "            break\n",
    "    else:\n",
    "        continue"
   ]
  },
  {
   "cell_type": "code",
   "execution_count": 7,
   "metadata": {},
   "outputs": [
    {
     "name": "stdout",
     "output_type": "stream",
     "text": [
      "Hello sathvik\n",
      "None\n"
     ]
    }
   ],
   "source": [
    "#3.write a program to validate username and password given by the user.\n",
    "def name(user):\n",
    "    print(\"Hello\",user)\n",
    "\n",
    "print(name('sathvik'))"
   ]
  },
  {
   "cell_type": "code",
   "execution_count": 8,
   "metadata": {},
   "outputs": [
    {
     "name": "stdout",
     "output_type": "stream",
     "text": [
      "(30, -10, 200, 0.5)\n",
      "(230, -10, 13200, 0.9166666666666666)\n"
     ]
    }
   ],
   "source": [
    "def addition(a,b):\n",
    "    return a+b,a-b,a*b,a/b\n",
    "print(addition(10,20))\n",
    "print(addition(110,120))"
   ]
  },
  {
   "cell_type": "code",
   "execution_count": 10,
   "metadata": {},
   "outputs": [
    {
     "name": "stdout",
     "output_type": "stream",
     "text": [
      "6 5\n"
     ]
    }
   ],
   "source": [
    "#4.multiple return values:\n",
    "def arithmetic(a,b):\n",
    "    return a+b,a-b,a*b,a/b\n",
    "#unpacking\n",
    "add,sub,mul,div=arithmetic(3,2)\n",
    "print(mul,add)"
   ]
  },
  {
   "cell_type": "code",
   "execution_count": 11,
   "metadata": {},
   "outputs": [
    {
     "data": {
      "text/plain": [
       "30"
      ]
     },
     "execution_count": 11,
     "metadata": {},
     "output_type": "execute_result"
    }
   ],
   "source": [
    "#5.Different type of Arguments to functions:\n",
    "#Required positional Arguments\n",
    "def add(a,b):\n",
    "    return (a+b)\n",
    "add(10,20)"
   ]
  },
  {
   "cell_type": "code",
   "execution_count": 12,
   "metadata": {},
   "outputs": [
    {
     "name": "stdout",
     "output_type": "stream",
     "text": [
      "22\n",
      "40\n"
     ]
    }
   ],
   "source": [
    "#Default Arguments\n",
    "def add(a,b=12):\n",
    "    return a+b\n",
    "print(add(10))\n",
    "print(add(20,20))\n",
    "    "
   ]
  },
  {
   "cell_type": "code",
   "execution_count": 15,
   "metadata": {},
   "outputs": [
    {
     "data": {
      "text/plain": [
       "30"
      ]
     },
     "execution_count": 15,
     "metadata": {},
     "output_type": "execute_result"
    }
   ],
   "source": [
    "#3.Keyword Arguments\n",
    "def add(a,b):\n",
    "    return(a+b)\n",
    "add(b=10,a=20)"
   ]
  },
  {
   "cell_type": "code",
   "execution_count": 17,
   "metadata": {},
   "outputs": [
    {
     "name": "stdout",
     "output_type": "stream",
     "text": [
      "30\n",
      "6\n"
     ]
    }
   ],
   "source": [
    "#4.Variable length arguments\n",
    "def add(*a):\n",
    "    return sum(a)\n",
    "print(add(10,20))\n",
    "print(add(1,2,3))"
   ]
  },
  {
   "cell_type": "code",
   "execution_count": 21,
   "metadata": {},
   "outputs": [
    {
     "data": {
      "text/plain": [
       "16"
      ]
     },
     "execution_count": 21,
     "metadata": {},
     "output_type": "execute_result"
    }
   ],
   "source": [
    "#5.Nesterd functions\n",
    "def square(a):\n",
    "    return a*a;\n",
    "def cube(a):\n",
    "    return square(a)*a #using squre function in cube function\n",
    "square(4)"
   ]
  },
  {
   "cell_type": "markdown",
   "metadata": {},
   "source": [
    "# recursive function\n",
    "1.factorial of a number\n",
    "2.fibbanocci series"
   ]
  },
  {
   "cell_type": "markdown",
   "metadata": {},
   "source": [
    "# Lists"
   ]
  },
  {
   "cell_type": "code",
   "execution_count": 28,
   "metadata": {},
   "outputs": [
    {
     "name": "stdout",
     "output_type": "stream",
     "text": [
      "[1, 3, 2, 4, 5, 5, 7, 8, 4, 9]\n",
      "[1, 3, 2, 4, 5, 1, 3, 2, 4, 5] [5, 7, 8, 4, 9]\n",
      "3\n",
      "[7, 8, 4]\n",
      "False\n",
      "True\n"
     ]
    }
   ],
   "source": [
    "#1.list\n",
    "l1=[1,3,2,4,5]\n",
    "l2=[5,7,8,4,9]\n",
    "print(l1+l2)\n",
    "print(l1*2,l2*1)\n",
    "print(l1[1])\n",
    "print(l2[1:4])\n",
    "print(2 in l2)\n",
    "print(5 in l1)"
   ]
  },
  {
   "cell_type": "code",
   "execution_count": 33,
   "metadata": {},
   "outputs": [
    {
     "name": "stdout",
     "output_type": "stream",
     "text": [
      "5\n",
      "1\n",
      "443\n",
      "['p', 'y', 't', 'h', 'o', 'n']\n",
      "['p', 'y', 't', 'h', 'o', '23']\n"
     ]
    }
   ],
   "source": [
    "#built in functions for lists len(),min(),max(),list()\n",
    "l1=[1,22,213,443,2]\n",
    "s=\"python\"\n",
    "print(len(l1))\n",
    "print(min(l1))\n",
    "print(max(l1))\n",
    "l1=list(s)\n",
    "print(l1)\n",
    "l1[-1]='23'\n",
    "print(l1)"
   ]
  }
 ],
 "metadata": {
  "kernelspec": {
   "display_name": "Python 3",
   "language": "python",
   "name": "python3"
  },
  "language_info": {
   "codemirror_mode": {
    "name": "ipython",
    "version": 3
   },
   "file_extension": ".py",
   "mimetype": "text/x-python",
   "name": "python",
   "nbconvert_exporter": "python",
   "pygments_lexer": "ipython3",
   "version": "3.7.6"
  }
 },
 "nbformat": 4,
 "nbformat_minor": 4
}
