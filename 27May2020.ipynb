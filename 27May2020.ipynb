{
 "cells": [
  {
   "cell_type": "markdown",
   "metadata": {},
   "source": [
    "# is used for comments\n",
    "## is used for comments\n",
    "### is used for comments\n",
    "####  is used for comments\n",
    "#####  is used for comments"
   ]
  },
  {
   "cell_type": "markdown",
   "metadata": {},
   "source": [
    "#  Unordered lists:\n",
    "-a   \n",
    "-b   \n",
    "-c  \n",
    "-d  "
   ]
  },
  {
   "cell_type": "markdown",
   "metadata": {},
   "source": [
    "# Ordered lists:\n",
    "1.a   \n",
    "2.b   \n",
    "3.c  \n",
    "4.d  "
   ]
  },
  {
   "cell_type": "markdown",
   "metadata": {},
   "source": [
    "Bold and Italic:\n",
    "\n",
    "**Python Programming**  \n",
    " *python Programming*\n"
   ]
  },
  {
   "cell_type": "code",
   "execution_count": 1,
   "metadata": {},
   "outputs": [
    {
     "name": "stdout",
     "output_type": "stream",
     "text": [
      "hello\n"
     ]
    }
   ],
   "source": [
    "print(\"hello\")"
   ]
  },
  {
   "cell_type": "markdown",
   "metadata": {},
   "source": [
    "[click here](https://docs.google.com/document/d/1NUWRUi53uEEP8sUAKZGx4nDbi3ExZf0GUEpE5vi8n34/edit#)"
   ]
  },
  {
   "cell_type": "markdown",
   "metadata": {},
   "source": [
    "![image](https://cdn.pixabay.com/photo/2015/06/19/21/24/the-road-815297__340.jpg)"
   ]
  },
  {
   "cell_type": "markdown",
   "metadata": {},
   "source": [
    "<img src=\"https://cdn.pixabay.com/photo/2015/06/19/21/24/the-road-815297__340.jpg\" height=\"250px\" width=\"450px\">"
   ]
  },
  {
   "cell_type": "code",
   "execution_count": 5,
   "metadata": {},
   "outputs": [
    {
     "name": "stdout",
     "output_type": "stream",
     "text": [
      "<class 'int'> <class 'float'> <class 'complex'>\n"
     ]
    }
   ],
   "source": [
    "a=10\n",
    "b=10.0\n",
    "c=10+8j \n",
    "print(type(a),type(b),type(c))"
   ]
  },
  {
   "cell_type": "code",
   "execution_count": 11,
   "metadata": {},
   "outputs": [
    {
     "name": "stdout",
     "output_type": "stream",
     "text": [
      "(12+1j)\n",
      "(22+2j)\n",
      "22.0\n",
      "2.0\n"
     ]
    }
   ],
   "source": [
    "a=10+1j\n",
    "b=complex(12,1)\n",
    "c=a+b\n",
    "print(b)\n",
    "print(a+b)\n",
    "print(c.real)\n",
    "print(c.imag)"
   ]
  },
  {
   "cell_type": "code",
   "execution_count": 12,
   "metadata": {},
   "outputs": [
    {
     "name": "stdout",
     "output_type": "stream",
     "text": [
      "Enter a value:5\n",
      "Enter b value:25\n",
      "30\n",
      "-20\n",
      "125\n",
      "0.2\n"
     ]
    }
   ],
   "source": [
    "#input and output\n",
    "a=int(input(\"Enter a value:\"))\n",
    "b=int(input(\"Enter b value:\"))\n",
    "print(a+b)\n",
    "print(a-b)\n",
    "print(a*b)\n",
    "print(a/b)"
   ]
  },
  {
   "cell_type": "code",
   "execution_count": 13,
   "metadata": {},
   "outputs": [
    {
     "name": "stdout",
     "output_type": "stream",
     "text": [
      "Enter a value:3\n",
      "Enter b value:2\n",
      "5\n",
      "1\n",
      "6\n",
      "1.5\n",
      "1\n",
      "9\n"
     ]
    }
   ],
   "source": [
    "#aritmetic operations\n",
    "a=int(input(\"Enter a value:\"))\n",
    "b=int(input(\"Enter b value:\"))\n",
    "print(a+b) #addition \n",
    "print(a-b) #substraction\n",
    "print(a*b)\n",
    "print(a/b)\n",
    "print(a//b) #int quotient\n",
    "print(a**b) #power"
   ]
  },
  {
   "cell_type": "code",
   "execution_count": 14,
   "metadata": {},
   "outputs": [
    {
     "name": "stdout",
     "output_type": "stream",
     "text": [
      "True\n",
      "False\n",
      "False\n",
      "True\n",
      "False\n",
      "True\n"
     ]
    }
   ],
   "source": [
    "#relational operators\n",
    "a=10\n",
    "b=20\n",
    "print(a!=b)\n",
    "print(a==b)\n",
    "print(a>b)\n",
    "print(a<b)\n",
    "print(a>=b)\n",
    "print(a<=b)"
   ]
  },
  {
   "cell_type": "code",
   "execution_count": 15,
   "metadata": {},
   "outputs": [
    {
     "name": "stdout",
     "output_type": "stream",
     "text": [
      "False\n",
      "True\n",
      "True\n"
     ]
    }
   ],
   "source": [
    "#logical operators\n",
    "#and,or,not\n",
    "a=10\n",
    "b=9\n",
    "print(a<b and a>1)\n",
    "print(a<b or a>1)\n",
    "print(not a<b)"
   ]
  },
  {
   "cell_type": "code",
   "execution_count": 16,
   "metadata": {},
   "outputs": [
    {
     "name": "stdout",
     "output_type": "stream",
     "text": [
      "False\n",
      "True\n",
      "True\n",
      "False\n"
     ]
    }
   ],
   "source": [
    "#Membership operators : in,not in\n",
    "list1 = [1,8,25,39,40,51,55,61]\n",
    "print(12 in list1)\n",
    "print(8 in list1)\n",
    "print(50 not in list1)\n",
    "print(39 not in list1)\n"
   ]
  },
  {
   "cell_type": "code",
   "execution_count": 17,
   "metadata": {},
   "outputs": [
    {
     "name": "stdout",
     "output_type": "stream",
     "text": [
      "b\n"
     ]
    }
   ],
   "source": [
    "#conditional statements if,else,elif:\n",
    "a=9;\n",
    "b=10;\n",
    "if a>b:\n",
    "    print(\"a\")\n",
    "elif b>a:\n",
    "    print(\"b\")\n",
    "else :\n",
    "    print(\"equal\")"
   ]
  },
  {
   "cell_type": "code",
   "execution_count": 19,
   "metadata": {},
   "outputs": [
    {
     "name": "stdout",
     "output_type": "stream",
     "text": [
      "Enter 'a' value1\n",
      "Enter 'b' value2\n",
      "Enter 'c' value3\n",
      "c is greater!\n"
     ]
    }
   ],
   "source": [
    "#largest of 3 numbers:\n",
    "a=int(input(\"Enter 'a' value\"))\n",
    "b=int(input(\"Enter 'b' value\"))\n",
    "c=int(input(\"Enter 'c' value\"))\n",
    "if a>b and a>c:\n",
    "    print(\"a is greater!\")\n",
    "elif b>a and b>c:\n",
    "    print(\"b is greater!\")\n",
    "elif c>a and c>a:\n",
    "    print(\"c is greater!\")\n",
    "else:\n",
    "    print(\"All are equal!\")"
   ]
  },
  {
   "cell_type": "code",
   "execution_count": 23,
   "metadata": {
    "scrolled": true
   },
   "outputs": [
    {
     "name": "stdout",
     "output_type": "stream",
     "text": [
      "Enter 'a' value: 5\n",
      "1,2,3,4,5,"
     ]
    }
   ],
   "source": [
    "#control loops:while,for \n",
    "#print n numbers using while\n",
    "a=int(input(\"Enter 'a' value: \"))\n",
    "i=1\n",
    "while i<=a:\n",
    "    print(i,end=\",\")\n",
    "    i+=1"
   ]
  }
 ],
 "metadata": {
  "kernelspec": {
   "display_name": "Python 3",
   "language": "python",
   "name": "python3"
  },
  "language_info": {
   "codemirror_mode": {
    "name": "ipython",
    "version": 3
   },
   "file_extension": ".py",
   "mimetype": "text/x-python",
   "name": "python",
   "nbconvert_exporter": "python",
   "pygments_lexer": "ipython3",
   "version": "3.7.6"
  }
 },
 "nbformat": 4,
 "nbformat_minor": 4
}
