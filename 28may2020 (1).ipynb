{
 "cells": [
  {
   "cell_type": "code",
   "execution_count": 2,
   "metadata": {},
   "outputs": [
    {
     "name": "stdout",
     "output_type": "stream",
     "text": [
      "enter a value:hello\n",
      "<class 'str'> <class 'str'>\n"
     ]
    }
   ],
   "source": [
    "s='hello'\n",
    "e=input(\"enter a value:\")\n",
    "print(type(e),type(s))"
   ]
  },
  {
   "cell_type": "code",
   "execution_count": 2,
   "metadata": {},
   "outputs": [
    {
     "name": "stdout",
     "output_type": "stream",
     "text": [
      "Enter string 1hello\n",
      "Enter string 2bye\n",
      "hellobye\n",
      "hellohello\n",
      "l\n",
      "y\n",
      "llo\n"
     ]
    }
   ],
   "source": [
    "# String Special Operators: +,*,[],[:],in,not in\n",
    "a=input(\"Enter string 1\")\n",
    "b=input(\"Enter string 2\")\n",
    "print(a+b)\n",
    "print(a*2)\n",
    "print(a[2])\n",
    "print(b[-2])\n",
    "print(a[2:])"
   ]
  },
  {
   "cell_type": "code",
   "execution_count": 3,
   "metadata": {},
   "outputs": [
    {
     "name": "stdout",
     "output_type": "stream",
     "text": [
      "enter a string:wow\n",
      "Palindrome\n"
     ]
    }
   ],
   "source": [
    "# Accept a string from the user and check whether it is palindrome or not \n",
    "n=input(\"enter a string:\")\n",
    "if n==n[::-1]:\n",
    "    print(\"Palindrome\")\n",
    "else:\n",
    "    print(\"Not a palindrome\")"
   ]
  },
  {
   "cell_type": "code",
   "execution_count": 4,
   "metadata": {},
   "outputs": [
    {
     "name": "stdout",
     "output_type": "stream",
     "text": [
      "enter a integer:121\n",
      "Palindrome\n"
     ]
    }
   ],
   "source": [
    "#Accept a integer from the user and check whether it is palindrome or not \n",
    "n=int(input(\"enter a integer:\"))\n",
    "if str(n)==str(n)[::-1]:\n",
    "    print(\"Palindrome\")\n",
    "else:\n",
    "    print(\"Not a palindrome\")"
   ]
  },
  {
   "cell_type": "code",
   "execution_count": 6,
   "metadata": {},
   "outputs": [
    {
     "name": "stdout",
     "output_type": "stream",
     "text": [
      "5 11 e 0 o y\n"
     ]
    }
   ],
   "source": [
    "#String Built-in Functions: len(),min(),max(),str()\n",
    "a='hello'\n",
    "b='hyderabad20'\n",
    "print(len(a),len(b),min(a),min(b),max(a),max(b))"
   ]
  },
  {
   "cell_type": "code",
   "execution_count": 22,
   "metadata": {},
   "outputs": [
    {
     "name": "stdout",
     "output_type": "stream",
     "text": [
      "True\n",
      "Hello\n",
      "False\n",
      "True\n",
      "False\n",
      "False\n",
      "True\n",
      "HYDERABAD20\n",
      "hello\n"
     ]
    }
   ],
   "source": [
    "#String Built-in Methods : capitalize(),index(),isalpha(),isdigit(),isalnum(),isupper(),islower(),upper(),lower(),startswith(),find(),count(),replace()\n",
    "a1=\"hello\"\n",
    "b1=\"hyderabad20\"\n",
    "print(a1.isalpha())\n",
    "print(a1.capitalize())\n",
    "print(b1.isdigit())\n",
    "print(b1.isalnum())\n",
    "print(a1.isdigit())\n",
    "print(a1.isupper())\n",
    "print(b1.islower())\n",
    "print(b1.upper())\n",
    "print(a1.lower())"
   ]
  },
  {
   "cell_type": "code",
   "execution_count": 24,
   "metadata": {},
   "outputs": [
    {
     "name": "stdout",
     "output_type": "stream",
     "text": [
      "Enter a string:hello\n",
      "enter position2\n",
      "hllo\n"
     ]
    }
   ],
   "source": [
    "#1.Read a string from the user and Count the frequency of a character ‘a’\n",
    "#2. Remove nth character from the string\n",
    "a=input(\"Enter a string:\")\n",
    "n=int(input(\"enter position\"))\n",
    "print(a.replace(a[n-1],\"\",1))"
   ]
  },
  {
   "cell_type": "code",
   "execution_count": 25,
   "metadata": {},
   "outputs": [
    {
     "name": "stdout",
     "output_type": "stream",
     "text": [
      "h\n",
      "e\n",
      "l\n",
      "l\n",
      "o\n"
     ]
    }
   ],
   "source": [
    "#for loops\n",
    "#printing string using for loop\n",
    "s=\"hello\"\n",
    "for i in s:\n",
    "    print(i,end=\"\\n\")"
   ]
  },
  {
   "cell_type": "code",
   "execution_count": 2,
   "metadata": {},
   "outputs": [
    {
     "name": "stdout",
     "output_type": "stream",
     "text": [
      "enter a stringhello\n",
      "h\n",
      "e\n",
      "l\n",
      "l\n",
      "o\n"
     ]
    }
   ],
   "source": [
    "#printing string using while loop\n",
    "s=input(\"enter a string\")\n",
    "x=0\n",
    "while x<len(s):\n",
    "    print(s[x])\n",
    "    x+=1"
   ]
  },
  {
   "cell_type": "code",
   "execution_count": null,
   "metadata": {},
   "outputs": [],
   "source": []
  }
 ],
 "metadata": {
  "kernelspec": {
   "display_name": "Python 3",
   "language": "python",
   "name": "python3"
  },
  "language_info": {
   "codemirror_mode": {
    "name": "ipython",
    "version": 3
   },
   "file_extension": ".py",
   "mimetype": "text/x-python",
   "name": "python",
   "nbconvert_exporter": "python",
   "pygments_lexer": "ipython3",
   "version": "3.7.6"
  }
 },
 "nbformat": 4,
 "nbformat_minor": 4
}
