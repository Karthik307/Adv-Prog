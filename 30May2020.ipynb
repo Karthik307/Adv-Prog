{
 "cells": [
  {
   "cell_type": "code",
   "execution_count": 2,
   "metadata": {},
   "outputs": [
    {
     "name": "stdout",
     "output_type": "stream",
     "text": [
      "enter a number12\n",
      "Adam number\n"
     ]
    }
   ],
   "source": [
    "#1.Adam Number:\n",
    "n = int(input(\"enter a number\"))#12\n",
    "if int(str(n**2)[::-1]) == int(str(n)[::-1])**2:\n",
    "    print(\"Adam number\")\n",
    "else:\n",
    "    print(\"Not an Adam Number\")\n"
   ]
  },
  {
   "cell_type": "code",
   "execution_count": 8,
   "metadata": {},
   "outputs": [
    {
     "name": "stdout",
     "output_type": "stream",
     "text": [
      "enter a value: 5\n",
      "Not Adam Number\n"
     ]
    }
   ],
   "source": [
    "#adam number using recursive function\n",
    "def Adam(n):\n",
    "    if int(str(n**2)[::-1])==int(str(n)[::-1])**2:\n",
    "        return True\n",
    "    else:\n",
    "        return False\n",
    "value=int(input(\"enter a value: \"))\n",
    "if(Adam(value)):\n",
    "    print(\"Adam number\")\n",
    "else:\n",
    "    print(\"Not Adam Number\")"
   ]
  },
  {
   "cell_type": "code",
   "execution_count": 9,
   "metadata": {},
   "outputs": [
    {
     "name": "stdout",
     "output_type": "stream",
     "text": [
      "Enter a number: 4\n",
      "Factorial is 24\n"
     ]
    }
   ],
   "source": [
    "#Create a function to find Factorial of a number using Recursion\n",
    "def fact(n):  \n",
    "   if n == 1:  \n",
    "       return n  \n",
    "   else:  \n",
    "       return n*fact(n-1)   \n",
    "num = int(input(\"Enter a number: \"))  \n",
    "if num < 0:  \n",
    "   print(\"Invalid Input\")  \n",
    "else:  \n",
    "   print(\"Factorial is\",fact(num)) "
   ]
  },
  {
   "cell_type": "code",
   "execution_count": 10,
   "metadata": {},
   "outputs": [
    {
     "name": "stdout",
     "output_type": "stream",
     "text": [
      "[2, 10, 3, 4, 45, 12, 34]\n",
      "[2, 10, 3, 4, 45, 12, 34, [47, 30]]\n",
      "[2, 10, 3, 4, 45, 12, 34, [47, 30], 23, 43, 45, 78]\n",
      "[10, 3, 4, 45, 12, 34, [47, 30], 23, 43, 45, 78]\n",
      "[3, 4, 45, 12, 34, [47, 30], 23, 43, 45, 78]\n",
      "[1000, 4, 45, 12, 34, [47, 30], 23, 43, 45, 78]\n",
      "[3, 4, 10, 78, 430]\n",
      "[430, 78, 10, 4, 3]\n",
      "3\n",
      "1\n",
      "[10, 3, 4, 430, 78]\n",
      "10\n"
     ]
    }
   ],
   "source": [
    "#list manipulatons or operatios\n",
    "#list manipulators\n",
    "lista=[2,3,4,45,12,34]\n",
    "#adding elements at specific position\n",
    "lista.insert(1,10)\n",
    "print(lista)\n",
    "#Adding elements\n",
    "lista.append([47,30])\n",
    "print(lista)\n",
    "#adding multiple values\n",
    "lista.extend([23,43,45,78])\n",
    "print(lista)\n",
    "#Removing elements\n",
    "lista.pop(0)\n",
    "print(lista)\n",
    "#Remove without knowing index value\n",
    "lista.remove(10)\n",
    "print(lista)\n",
    "#clearing list\n",
    "#lista.clear()\n",
    "#print(lista)\n",
    "#replacing\n",
    "lista[0]=1000\n",
    "print(lista)\n",
    "#Sorting a list\n",
    "list1=[10,3,4,430,78]\n",
    "list1.sort()\n",
    "print(list1)\n",
    "#sorting in reverse order\n",
    "list1.sort(reverse=True)\n",
    "print(list1)\n",
    "#index of element\n",
    "list1=[10,3,4,430,78]\n",
    "a=list1.index(430)\n",
    "print(a)\n",
    "#counting number of times element is repeated\n",
    "list1=[10,3,4,430,78]\n",
    "print(list1.count(10))\n",
    "#copying list elements\n",
    "list1=[10,3,4,430,78]\n",
    "list2=list1\n",
    "print(list2)\n",
    "print(list2[0])\n"
   ]
  },
  {
   "cell_type": "code",
   "execution_count": null,
   "metadata": {},
   "outputs": [],
   "source": []
  }
 ],
 "metadata": {
  "kernelspec": {
   "display_name": "Python 3",
   "language": "python",
   "name": "python3"
  },
  "language_info": {
   "codemirror_mode": {
    "name": "ipython",
    "version": 3
   },
   "file_extension": ".py",
   "mimetype": "text/x-python",
   "name": "python",
   "nbconvert_exporter": "python",
   "pygments_lexer": "ipython3",
   "version": "3.7.6"
  }
 },
 "nbformat": 4,
 "nbformat_minor": 4
}
